{
 "cells": [
  {
   "cell_type": "code",
   "execution_count": null,
   "metadata": {},
   "outputs": [],
   "source": [
    "import numpy as np\n",
    "import pandas as pd\n",
    "from pandas import DataFrame, Series\n",
    "import matplotlib.pyplot as plt\n",
    "import seaborn as sns\n",
    "\n",
    "from sklearn.model_selection import train_test_split, cross_val_score, GridSearchCV\n",
    "from sklearn.linear_model import LinearRegression, Lasso, Ridge, ElasticNet\n",
    "from sklearn.metrics import mean_squared_error, mean_absolute_error, r2_score\n",
    "from sklearn.preprocessing import PolynomialFeatures\n",
    "from sklearn.pipeline import Pipeline\n",
    "from sklearn.model_selection import cross_val_score\n",
    "import warnings\n",
    "warnings.filterwarnings(\"ignore\", category=DeprecationWarning)"
   ]
  },
  {
   "cell_type": "markdown",
   "metadata": {},
   "source": [
    "# Q1. Outlier가 데이터 셋에 exist할 경우 선형회귀에 대한 성능을 compare해보세요\n"
   ]
  },
  {
   "cell_type": "markdown",
   "metadata": {},
   "source": [
    "# 데이터들의 의미\n",
    "(https://www.kaggle.com/c/nyc-taxi-trip-duration/data)\n",
    "\n",
    "id - a unique identifier for each trip\n",
    "\n",
    "vendor_id - a code indicating the provider associated with the trip record\n",
    "\n",
    "pickup_datetime - date and time when the meter was engaged\n",
    "\n",
    "dropoff_datetime - date and time when the meter was disengaged\n",
    "\n",
    "passenger_count - the number of passengers in the vehicle (driver entered value)\n",
    "\n",
    "pickup_longitude - the longitude where the meter was engaged\n",
    "\n",
    "pickup_latitude - the latitude where the meter was engaged\n",
    "\n",
    "dropoff_longitude - the longitude where the meter was disengaged\n",
    "\n",
    "dropoff_latitude - the latitude where the meter was disengaged\n",
    "\n",
    "store_and_fwd_flag - This flag indicates whether the trip record was held in vehicle memory before sending to the vendor because the vehicle did not have a connection to the server - Y=store and forward; N=not a store and forward trip\n",
    "\n",
    "\n",
    "\n",
    "# target value: trip_duration - duration of the trip in seconds"
   ]
  },
  {
   "cell_type": "code",
   "execution_count": 3,
   "metadata": {},
   "outputs": [],
   "source": [
    "data_df = pd.read_csv('train.csv')"
   ]
  },
  {
   "cell_type": "code",
   "execution_count": 4,
   "metadata": {},
   "outputs": [
    {
     "name": "stdout",
     "output_type": "stream",
     "text": [
      "<class 'pandas.core.frame.DataFrame'>\n",
      "RangeIndex: 1458644 entries, 0 to 1458643\n",
      "Data columns (total 11 columns):\n",
      "id                    1458644 non-null object\n",
      "vendor_id             1458644 non-null int64\n",
      "pickup_datetime       1458644 non-null object\n",
      "dropoff_datetime      1458644 non-null object\n",
      "passenger_count       1458644 non-null int64\n",
      "pickup_longitude      1458644 non-null float64\n",
      "pickup_latitude       1458644 non-null float64\n",
      "dropoff_longitude     1458644 non-null float64\n",
      "dropoff_latitude      1458644 non-null float64\n",
      "store_and_fwd_flag    1458644 non-null object\n",
      "trip_duration         1458644 non-null int64\n",
      "dtypes: float64(4), int64(3), object(4)\n",
      "memory usage: 122.4+ MB\n"
     ]
    }
   ],
   "source": [
    "data_df.info()"
   ]
  },
  {
   "cell_type": "markdown",
   "metadata": {},
   "source": [
    "모든 feature가 수치형 데이터임이 아님을 알 수있다.\n",
    "\n",
    "id, vendor_id, store_and_fwd_flag에 대한 처리가 필요!"
   ]
  },
  {
   "cell_type": "code",
   "execution_count": 5,
   "metadata": {},
   "outputs": [],
   "source": [
    "# index가 id역할을 하니까 id는 드랍함\n",
    "data_df.drop('id', axis=1, inplace=True)"
   ]
  },
  {
   "cell_type": "code",
   "execution_count": 6,
   "metadata": {},
   "outputs": [
    {
     "data": {
      "text/html": [
       "<div>\n",
       "<style scoped>\n",
       "    .dataframe tbody tr th:only-of-type {\n",
       "        vertical-align: middle;\n",
       "    }\n",
       "\n",
       "    .dataframe tbody tr th {\n",
       "        vertical-align: top;\n",
       "    }\n",
       "\n",
       "    .dataframe thead th {\n",
       "        text-align: right;\n",
       "    }\n",
       "</style>\n",
       "<table border=\"1\" class=\"dataframe\">\n",
       "  <thead>\n",
       "    <tr style=\"text-align: right;\">\n",
       "      <th></th>\n",
       "      <th>vendor_id</th>\n",
       "      <th>passenger_count</th>\n",
       "      <th>pickup_longitude</th>\n",
       "      <th>pickup_latitude</th>\n",
       "      <th>dropoff_longitude</th>\n",
       "      <th>dropoff_latitude</th>\n",
       "      <th>trip_duration</th>\n",
       "    </tr>\n",
       "  </thead>\n",
       "  <tbody>\n",
       "    <tr>\n",
       "      <th>count</th>\n",
       "      <td>1458644.00</td>\n",
       "      <td>1458644.00</td>\n",
       "      <td>1458644.00</td>\n",
       "      <td>1458644.00</td>\n",
       "      <td>1458644.00</td>\n",
       "      <td>1458644.00</td>\n",
       "      <td>1458644.00</td>\n",
       "    </tr>\n",
       "    <tr>\n",
       "      <th>mean</th>\n",
       "      <td>1.53</td>\n",
       "      <td>1.66</td>\n",
       "      <td>-73.97</td>\n",
       "      <td>40.75</td>\n",
       "      <td>-73.97</td>\n",
       "      <td>40.75</td>\n",
       "      <td>959.49</td>\n",
       "    </tr>\n",
       "    <tr>\n",
       "      <th>std</th>\n",
       "      <td>0.50</td>\n",
       "      <td>1.31</td>\n",
       "      <td>0.07</td>\n",
       "      <td>0.03</td>\n",
       "      <td>0.07</td>\n",
       "      <td>0.04</td>\n",
       "      <td>5237.43</td>\n",
       "    </tr>\n",
       "    <tr>\n",
       "      <th>min</th>\n",
       "      <td>1.00</td>\n",
       "      <td>0.00</td>\n",
       "      <td>-121.93</td>\n",
       "      <td>34.36</td>\n",
       "      <td>-121.93</td>\n",
       "      <td>32.18</td>\n",
       "      <td>1.00</td>\n",
       "    </tr>\n",
       "    <tr>\n",
       "      <th>25%</th>\n",
       "      <td>1.00</td>\n",
       "      <td>1.00</td>\n",
       "      <td>-73.99</td>\n",
       "      <td>40.74</td>\n",
       "      <td>-73.99</td>\n",
       "      <td>40.74</td>\n",
       "      <td>397.00</td>\n",
       "    </tr>\n",
       "    <tr>\n",
       "      <th>50%</th>\n",
       "      <td>2.00</td>\n",
       "      <td>1.00</td>\n",
       "      <td>-73.98</td>\n",
       "      <td>40.75</td>\n",
       "      <td>-73.98</td>\n",
       "      <td>40.75</td>\n",
       "      <td>662.00</td>\n",
       "    </tr>\n",
       "    <tr>\n",
       "      <th>75%</th>\n",
       "      <td>2.00</td>\n",
       "      <td>2.00</td>\n",
       "      <td>-73.97</td>\n",
       "      <td>40.77</td>\n",
       "      <td>-73.96</td>\n",
       "      <td>40.77</td>\n",
       "      <td>1075.00</td>\n",
       "    </tr>\n",
       "    <tr>\n",
       "      <th>max</th>\n",
       "      <td>2.00</td>\n",
       "      <td>9.00</td>\n",
       "      <td>-61.34</td>\n",
       "      <td>51.88</td>\n",
       "      <td>-61.34</td>\n",
       "      <td>43.92</td>\n",
       "      <td>3526282.00</td>\n",
       "    </tr>\n",
       "  </tbody>\n",
       "</table>\n",
       "</div>"
      ],
      "text/plain": [
       "        vendor_id  passenger_count  pickup_longitude  pickup_latitude  \\\n",
       "count  1458644.00       1458644.00        1458644.00       1458644.00   \n",
       "mean         1.53             1.66            -73.97            40.75   \n",
       "std          0.50             1.31              0.07             0.03   \n",
       "min          1.00             0.00           -121.93            34.36   \n",
       "25%          1.00             1.00            -73.99            40.74   \n",
       "50%          2.00             1.00            -73.98            40.75   \n",
       "75%          2.00             2.00            -73.97            40.77   \n",
       "max          2.00             9.00            -61.34            51.88   \n",
       "\n",
       "       dropoff_longitude  dropoff_latitude  trip_duration  \n",
       "count         1458644.00        1458644.00     1458644.00  \n",
       "mean              -73.97             40.75         959.49  \n",
       "std                 0.07              0.04        5237.43  \n",
       "min              -121.93             32.18           1.00  \n",
       "25%               -73.99             40.74         397.00  \n",
       "50%               -73.98             40.75         662.00  \n",
       "75%               -73.96             40.77        1075.00  \n",
       "max               -61.34             43.92     3526282.00  "
      ]
     },
     "execution_count": 6,
     "metadata": {},
     "output_type": "execute_result"
    }
   ],
   "source": [
    "np.round(data_df.describe(),2)"
   ]
  },
  {
   "cell_type": "markdown",
   "metadata": {},
   "source": [
    "min, quantile, max를 살펴보면 어떤 outlier가 trip_duration에 있음을 알 수있습니다."
   ]
  },
  {
   "cell_type": "markdown",
   "metadata": {},
   "source": [
    "vendor id, id는 각각 identify를 위한 데이터이므로 drop을 사용하여 처리합니다. pick up time, drop off time은 각각 시계열 데이터인데, 이 책에서 시계열 처리에 대해 다루지 않았으므로 drop을 해줍니다."
   ]
  },
  {
   "cell_type": "code",
   "execution_count": 7,
   "metadata": {},
   "outputs": [],
   "source": [
    "data_df.drop(['pickup_datetime', 'dropoff_datetime'], axis = 1, inplace = True)"
   ]
  },
  {
   "cell_type": "code",
   "execution_count": 8,
   "metadata": {},
   "outputs": [
    {
     "data": {
      "text/html": [
       "<div>\n",
       "<style scoped>\n",
       "    .dataframe tbody tr th:only-of-type {\n",
       "        vertical-align: middle;\n",
       "    }\n",
       "\n",
       "    .dataframe tbody tr th {\n",
       "        vertical-align: top;\n",
       "    }\n",
       "\n",
       "    .dataframe thead th {\n",
       "        text-align: right;\n",
       "    }\n",
       "</style>\n",
       "<table border=\"1\" class=\"dataframe\">\n",
       "  <thead>\n",
       "    <tr style=\"text-align: right;\">\n",
       "      <th></th>\n",
       "      <th>vendor_id</th>\n",
       "      <th>passenger_count</th>\n",
       "      <th>pickup_longitude</th>\n",
       "      <th>pickup_latitude</th>\n",
       "      <th>dropoff_longitude</th>\n",
       "      <th>dropoff_latitude</th>\n",
       "      <th>store_and_fwd_flag</th>\n",
       "      <th>trip_duration</th>\n",
       "    </tr>\n",
       "  </thead>\n",
       "  <tbody>\n",
       "    <tr>\n",
       "      <th>0</th>\n",
       "      <td>2</td>\n",
       "      <td>1</td>\n",
       "      <td>-73.982155</td>\n",
       "      <td>40.767937</td>\n",
       "      <td>-73.964630</td>\n",
       "      <td>40.765602</td>\n",
       "      <td>N</td>\n",
       "      <td>455</td>\n",
       "    </tr>\n",
       "    <tr>\n",
       "      <th>1</th>\n",
       "      <td>1</td>\n",
       "      <td>1</td>\n",
       "      <td>-73.980415</td>\n",
       "      <td>40.738564</td>\n",
       "      <td>-73.999481</td>\n",
       "      <td>40.731152</td>\n",
       "      <td>N</td>\n",
       "      <td>663</td>\n",
       "    </tr>\n",
       "    <tr>\n",
       "      <th>2</th>\n",
       "      <td>2</td>\n",
       "      <td>1</td>\n",
       "      <td>-73.979027</td>\n",
       "      <td>40.763939</td>\n",
       "      <td>-74.005333</td>\n",
       "      <td>40.710087</td>\n",
       "      <td>N</td>\n",
       "      <td>2124</td>\n",
       "    </tr>\n",
       "  </tbody>\n",
       "</table>\n",
       "</div>"
      ],
      "text/plain": [
       "   vendor_id  passenger_count  pickup_longitude  pickup_latitude  \\\n",
       "0          2                1        -73.982155        40.767937   \n",
       "1          1                1        -73.980415        40.738564   \n",
       "2          2                1        -73.979027        40.763939   \n",
       "\n",
       "   dropoff_longitude  dropoff_latitude store_and_fwd_flag  trip_duration  \n",
       "0         -73.964630         40.765602                  N            455  \n",
       "1         -73.999481         40.731152                  N            663  \n",
       "2         -74.005333         40.710087                  N           2124  "
      ]
     },
     "execution_count": 8,
     "metadata": {},
     "output_type": "execute_result"
    }
   ],
   "source": [
    "data_df.head(3)"
   ]
  },
  {
   "cell_type": "markdown",
   "metadata": {},
   "source": [
    "store_and_fwd_flag와 trip_duration의 상관관계를 알아본다. 만약 상관관계가 적다면 drop하고 그렇지 않다면 핸들링을 따로 한다"
   ]
  },
  {
   "cell_type": "code",
   "execution_count": 9,
   "metadata": {},
   "outputs": [
    {
     "data": {
      "text/plain": [
       "store_and_fwd_flag\n",
       "N     958.819706\n",
       "Y    1080.763331\n",
       "Name: trip_duration, dtype: float64"
      ]
     },
     "execution_count": 9,
     "metadata": {},
     "output_type": "execute_result"
    }
   ],
   "source": [
    "sff_cat = {'N':0, 'Y':1}\n",
    "cat_fun = lambda x:sff_cat[x]\n",
    "sff = data_df['store_and_fwd_flag'].map(cat_fun)\n",
    "data_df.groupby('store_and_fwd_flag')['trip_duration'].mean()"
   ]
  },
  {
   "cell_type": "markdown",
   "metadata": {},
   "source": [
    "위의 결과를 보고 store_and_fwd_flag을 drop할지 하지 않을지 생각해보세요"
   ]
  },
  {
   "cell_type": "code",
   "execution_count": 10,
   "metadata": {},
   "outputs": [],
   "source": [
    "# N일 떄의 평균, Y일 때의 평균이 큰 차이가 없으므로 drop한다\n",
    "data_df.drop('store_and_fwd_flag', axis=1, inplace=True)"
   ]
  },
  {
   "cell_type": "code",
   "execution_count": 11,
   "metadata": {},
   "outputs": [
    {
     "data": {
      "text/html": [
       "<div>\n",
       "<style scoped>\n",
       "    .dataframe tbody tr th:only-of-type {\n",
       "        vertical-align: middle;\n",
       "    }\n",
       "\n",
       "    .dataframe tbody tr th {\n",
       "        vertical-align: top;\n",
       "    }\n",
       "\n",
       "    .dataframe thead th {\n",
       "        text-align: right;\n",
       "    }\n",
       "</style>\n",
       "<table border=\"1\" class=\"dataframe\">\n",
       "  <thead>\n",
       "    <tr style=\"text-align: right;\">\n",
       "      <th></th>\n",
       "      <th>vendor_id</th>\n",
       "      <th>passenger_count</th>\n",
       "      <th>pickup_longitude</th>\n",
       "      <th>pickup_latitude</th>\n",
       "      <th>dropoff_longitude</th>\n",
       "      <th>dropoff_latitude</th>\n",
       "      <th>trip_duration</th>\n",
       "    </tr>\n",
       "  </thead>\n",
       "  <tbody>\n",
       "    <tr>\n",
       "      <th>0</th>\n",
       "      <td>2</td>\n",
       "      <td>1</td>\n",
       "      <td>-73.982155</td>\n",
       "      <td>40.767937</td>\n",
       "      <td>-73.964630</td>\n",
       "      <td>40.765602</td>\n",
       "      <td>455</td>\n",
       "    </tr>\n",
       "    <tr>\n",
       "      <th>1</th>\n",
       "      <td>1</td>\n",
       "      <td>1</td>\n",
       "      <td>-73.980415</td>\n",
       "      <td>40.738564</td>\n",
       "      <td>-73.999481</td>\n",
       "      <td>40.731152</td>\n",
       "      <td>663</td>\n",
       "    </tr>\n",
       "    <tr>\n",
       "      <th>2</th>\n",
       "      <td>2</td>\n",
       "      <td>1</td>\n",
       "      <td>-73.979027</td>\n",
       "      <td>40.763939</td>\n",
       "      <td>-74.005333</td>\n",
       "      <td>40.710087</td>\n",
       "      <td>2124</td>\n",
       "    </tr>\n",
       "    <tr>\n",
       "      <th>3</th>\n",
       "      <td>2</td>\n",
       "      <td>1</td>\n",
       "      <td>-74.010040</td>\n",
       "      <td>40.719971</td>\n",
       "      <td>-74.012268</td>\n",
       "      <td>40.706718</td>\n",
       "      <td>429</td>\n",
       "    </tr>\n",
       "    <tr>\n",
       "      <th>4</th>\n",
       "      <td>2</td>\n",
       "      <td>1</td>\n",
       "      <td>-73.973053</td>\n",
       "      <td>40.793209</td>\n",
       "      <td>-73.972923</td>\n",
       "      <td>40.782520</td>\n",
       "      <td>435</td>\n",
       "    </tr>\n",
       "  </tbody>\n",
       "</table>\n",
       "</div>"
      ],
      "text/plain": [
       "   vendor_id  passenger_count  pickup_longitude  pickup_latitude  \\\n",
       "0          2                1        -73.982155        40.767937   \n",
       "1          1                1        -73.980415        40.738564   \n",
       "2          2                1        -73.979027        40.763939   \n",
       "3          2                1        -74.010040        40.719971   \n",
       "4          2                1        -73.973053        40.793209   \n",
       "\n",
       "   dropoff_longitude  dropoff_latitude  trip_duration  \n",
       "0         -73.964630         40.765602            455  \n",
       "1         -73.999481         40.731152            663  \n",
       "2         -74.005333         40.710087           2124  \n",
       "3         -74.012268         40.706718            429  \n",
       "4         -73.972923         40.782520            435  "
      ]
     },
     "execution_count": 11,
     "metadata": {},
     "output_type": "execute_result"
    }
   ],
   "source": [
    "data_df.head()"
   ]
  },
  {
   "cell_type": "markdown",
   "metadata": {},
   "source": [
    "trip_duration에 outlier 수를 파악해보고, 이 outlier들을 drop했을 때와 안했을 때의 성능 수준을 선형 회귀 모델들로 비교해 보겠습니다."
   ]
  },
  {
   "cell_type": "code",
   "execution_count": 12,
   "metadata": {},
   "outputs": [
    {
     "data": {
      "text/plain": [
       "2123"
      ]
     },
     "execution_count": 12,
     "metadata": {},
     "output_type": "execute_result"
    }
   ],
   "source": [
    "np.sum(data_df.trip_duration > 10000)"
   ]
  },
  {
   "cell_type": "markdown",
   "metadata": {},
   "source": [
    "# outlier가 있는 데이터셋을 사용하여 선형 회귀 모델 평가."
   ]
  },
  {
   "cell_type": "code",
   "execution_count": 13,
   "metadata": {},
   "outputs": [],
   "source": [
    "#outlier를 제거하지 않은 데이터 셋을 훈련세트와 데이터 세트로 나눈다.\n",
    "X = data_df.drop('trip_duration', axis = 1)\n",
    "y = data_df.trip_duration\n",
    "\n",
    "X_train, X_test, y_train, y_test = train_test_split(X, y, random_state = 42)"
   ]
  },
  {
   "cell_type": "markdown",
   "metadata": {},
   "source": [
    "LinearRegression을 사용하여 train set을 학습시킨후 test set으로 평가해보세요"
   ]
  },
  {
   "cell_type": "code",
   "execution_count": 14,
   "metadata": {},
   "outputs": [],
   "source": [
    "def get_linear_result(X_train, y_train):\n",
    "    lr = LinearRegression()\n",
    "    lr.fit(X_train, y_train)\n",
    "    y_preds = lr.predict(X_test)\n",
    "\n",
    "    mse = mean_squared_error(y_test, y_preds)\n",
    "    \n",
    "    print (\"MSE: {0: 3f}\".format(mse))"
   ]
  },
  {
   "cell_type": "code",
   "execution_count": 15,
   "metadata": {},
   "outputs": [
    {
     "name": "stdout",
     "output_type": "stream",
     "text": [
      "MSE:  10602333.630458\n"
     ]
    }
   ],
   "source": [
    "get_linear_result(X_train, y_train)"
   ]
  },
  {
   "cell_type": "markdown",
   "metadata": {},
   "source": [
    "Pipeline과 PolynomialFeatures를 가지고 다항회귀를 사용해서 평가해보세요"
   ]
  },
  {
   "cell_type": "code",
   "execution_count": 18,
   "metadata": {},
   "outputs": [],
   "source": [
    "def polynomial_func(X):\n",
    "    y = 1 + 2 * X + X**2 + X**3 + X**4\n",
    "    return y\n",
    "\n",
    "def get_polynomial_result(X_train, y_train):\n",
    "    model = Pipeline([('poly', PolynomialFeatures(degree=3)), ('linear', LinearRegression())])\n",
    "    X = np.arange(4).reshape(2, 2)\n",
    "    y = polynomial_func(X)\n",
    "    \n",
    "    model.fit (X_train, y_train)\n",
    "    \n",
    "    mse = -1*np.mean(cross_val_score(model, X_train, y_train, scoring=\"neg_mean_squared_error\", cv=10))\n",
    "    \n",
    "    print (\"MSE: {0: 3f}\".format(mse))"
   ]
  },
  {
   "cell_type": "code",
   "execution_count": 19,
   "metadata": {},
   "outputs": [
    {
     "name": "stdout",
     "output_type": "stream",
     "text": [
      "MSE:  304468828927.748840\n"
     ]
    }
   ],
   "source": [
    "get_polynomial_result(X_train, y_train)"
   ]
  },
  {
   "cell_type": "markdown",
   "metadata": {},
   "source": [
    "Ridge 모델 학습\n",
    "\n",
    "다양한 learning rate 가지고 ridge 모델을 평가해보세요.\n",
    "\n",
    "이 때 각각의 coefficient를 확인해보세요"
   ]
  },
  {
   "cell_type": "code",
   "execution_count": 27,
   "metadata": {},
   "outputs": [],
   "source": [
    "def get_linear_reg_eval(model_name, params=None, X_train_n=None, y_train_n=None, verbose=True):\n",
    "    coeff_df = pd.DataFrame()\n",
    "    if verbose : print('####### ', model_name , '#######')\n",
    "    for param in params:\n",
    "        if model_name =='Ridge': model = Ridge(alpha=param)\n",
    "        elif model_name =='Lasso': model = Lasso(alpha=param)\n",
    "        elif model_name =='ElasticNet': model = ElasticNet(alpha=param, l1_ratio=0.7)\n",
    "        neg_mse_scores = cross_val_score(model, X_train_n, \n",
    "                                             y_train_n, scoring=\"neg_mean_squared_error\", cv = 5)\n",
    "        avg_rmse = np.mean(np.sqrt(-1 * neg_mse_scores))\n",
    "        print('alpha {0}일 때 5 폴드 세트의 평균 RMSE: {1:.3f} '.format(param, avg_rmse))\n",
    "        # cross_val_score는 evaluation metric만 반환하므로 모델을 다시 학습하여 회귀 계수 추출\n",
    "        model.fit(X_train , y_train)\n",
    "        # alpha에 따른 피처별 회귀 계수를 Series로 변환하고 이를 DataFrame의 컬럼으로 추가. \n",
    "        coeff = pd.Series(data=model.coef_ , index=X_train.columns )\n",
    "        colname='alpha:'+str(param)\n",
    "        coeff_df[colname] = coeff\n",
    "    return coeff_df"
   ]
  },
  {
   "cell_type": "code",
   "execution_count": 41,
   "metadata": {},
   "outputs": [
    {
     "name": "stdout",
     "output_type": "stream",
     "text": [
      "#######  Ridge #######\n",
      "alpha 0.07일 때 5 폴드 세트의 평균 RMSE: 658.706 \n",
      "alpha 0.1일 때 5 폴드 세트의 평균 RMSE: 658.705 \n",
      "alpha 0.5일 때 5 폴드 세트의 평균 RMSE: 658.693 \n",
      "alpha 1일 때 5 폴드 세트의 평균 RMSE: 658.678 \n",
      "alpha 3일 때 5 폴드 세트의 평균 RMSE: 658.620 \n"
     ]
    }
   ],
   "source": [
    "ridge_alphas = [ 0.07, 0.1, 0.5, 1, 3]\n",
    "coeff_ridge_df =get_linear_reg_eval('Ridge', params=ridge_alphas, X_train_n=X_train, y_train_n=y_train)"
   ]
  },
  {
   "cell_type": "code",
   "execution_count": 42,
   "metadata": {},
   "outputs": [
    {
     "data": {
      "text/html": [
       "<div>\n",
       "<style scoped>\n",
       "    .dataframe tbody tr th:only-of-type {\n",
       "        vertical-align: middle;\n",
       "    }\n",
       "\n",
       "    .dataframe tbody tr th {\n",
       "        vertical-align: top;\n",
       "    }\n",
       "\n",
       "    .dataframe thead th {\n",
       "        text-align: right;\n",
       "    }\n",
       "</style>\n",
       "<table border=\"1\" class=\"dataframe\">\n",
       "  <thead>\n",
       "    <tr style=\"text-align: right;\">\n",
       "      <th></th>\n",
       "      <th>alpha:0.07</th>\n",
       "      <th>alpha:0.1</th>\n",
       "      <th>alpha:0.5</th>\n",
       "      <th>alpha:1</th>\n",
       "      <th>alpha:3</th>\n",
       "    </tr>\n",
       "  </thead>\n",
       "  <tbody>\n",
       "    <tr>\n",
       "      <th>pickup_longitude</th>\n",
       "      <td>2507.694836</td>\n",
       "      <td>2507.659007</td>\n",
       "      <td>2507.181418</td>\n",
       "      <td>2506.584777</td>\n",
       "      <td>2504.202031</td>\n",
       "    </tr>\n",
       "    <tr>\n",
       "      <th>passenger_count</th>\n",
       "      <td>6.280951</td>\n",
       "      <td>6.280964</td>\n",
       "      <td>6.281129</td>\n",
       "      <td>6.281335</td>\n",
       "      <td>6.282160</td>\n",
       "    </tr>\n",
       "    <tr>\n",
       "      <th>vendor_id</th>\n",
       "      <td>4.347017</td>\n",
       "      <td>4.347028</td>\n",
       "      <td>4.347178</td>\n",
       "      <td>4.347364</td>\n",
       "      <td>4.348109</td>\n",
       "    </tr>\n",
       "    <tr>\n",
       "      <th>dropoff_longitude</th>\n",
       "      <td>-353.669988</td>\n",
       "      <td>-353.643906</td>\n",
       "      <td>-353.296263</td>\n",
       "      <td>-352.862037</td>\n",
       "      <td>-351.128752</td>\n",
       "    </tr>\n",
       "    <tr>\n",
       "      <th>dropoff_latitude</th>\n",
       "      <td>-2039.771814</td>\n",
       "      <td>-2039.753097</td>\n",
       "      <td>-2039.503478</td>\n",
       "      <td>-2039.191299</td>\n",
       "      <td>-2037.940870</td>\n",
       "    </tr>\n",
       "    <tr>\n",
       "      <th>pickup_latitude</th>\n",
       "      <td>-2839.184194</td>\n",
       "      <td>-2839.125343</td>\n",
       "      <td>-2838.340954</td>\n",
       "      <td>-2837.361251</td>\n",
       "      <td>-2833.451117</td>\n",
       "    </tr>\n",
       "  </tbody>\n",
       "</table>\n",
       "</div>"
      ],
      "text/plain": [
       "                    alpha:0.07    alpha:0.1    alpha:0.5      alpha:1  \\\n",
       "pickup_longitude   2507.694836  2507.659007  2507.181418  2506.584777   \n",
       "passenger_count       6.280951     6.280964     6.281129     6.281335   \n",
       "vendor_id             4.347017     4.347028     4.347178     4.347364   \n",
       "dropoff_longitude  -353.669988  -353.643906  -353.296263  -352.862037   \n",
       "dropoff_latitude  -2039.771814 -2039.753097 -2039.503478 -2039.191299   \n",
       "pickup_latitude   -2839.184194 -2839.125343 -2838.340954 -2837.361251   \n",
       "\n",
       "                       alpha:3  \n",
       "pickup_longitude   2504.202031  \n",
       "passenger_count       6.282160  \n",
       "vendor_id             4.348109  \n",
       "dropoff_longitude  -351.128752  \n",
       "dropoff_latitude  -2037.940870  \n",
       "pickup_latitude   -2833.451117  "
      ]
     },
     "execution_count": 42,
     "metadata": {},
     "output_type": "execute_result"
    }
   ],
   "source": [
    "sort_column = 'alpha:'+str(ridge_alphas[0])\n",
    "coeff_ridge_df.sort_values(by=sort_column, ascending=False)"
   ]
  },
  {
   "cell_type": "markdown",
   "metadata": {},
   "source": [
    "Lasso 모델 학습\n",
    "\n",
    "다양한 learning rate 가지고 Lasso 모델을 평가해보세요.\n",
    "\n",
    "이 때 각각의 coefficient를 확인해보세요"
   ]
  },
  {
   "cell_type": "code",
   "execution_count": 28,
   "metadata": {},
   "outputs": [
    {
     "name": "stdout",
     "output_type": "stream",
     "text": [
      "#######  Lasso #######\n",
      "alpha 0.07일 때 5 폴드 세트의 평균 RMSE: 5261.273 \n",
      "alpha 0.1일 때 5 폴드 세트의 평균 RMSE: 5261.267 \n",
      "alpha 0.5일 때 5 폴드 세트의 평균 RMSE: 5261.233 \n",
      "alpha 1일 때 5 폴드 세트의 평균 RMSE: 5261.258 \n",
      "alpha 3일 때 5 폴드 세트의 평균 RMSE: 5261.682 \n"
     ]
    }
   ],
   "source": [
    "lasso_alphas = [ 0.07, 0.1, 0.5, 1, 3]\n",
    "coeff_lasso_df =get_linear_reg_eval('Lasso', params=lasso_alphas, X_train_n=X_train, y_train_n=y_train)"
   ]
  },
  {
   "cell_type": "code",
   "execution_count": 29,
   "metadata": {},
   "outputs": [
    {
     "data": {
      "text/html": [
       "<div>\n",
       "<style scoped>\n",
       "    .dataframe tbody tr th:only-of-type {\n",
       "        vertical-align: middle;\n",
       "    }\n",
       "\n",
       "    .dataframe tbody tr th {\n",
       "        vertical-align: top;\n",
       "    }\n",
       "\n",
       "    .dataframe thead th {\n",
       "        text-align: right;\n",
       "    }\n",
       "</style>\n",
       "<table border=\"1\" class=\"dataframe\">\n",
       "  <thead>\n",
       "    <tr style=\"text-align: right;\">\n",
       "      <th></th>\n",
       "      <th>alpha:0.07</th>\n",
       "      <th>alpha:0.1</th>\n",
       "      <th>alpha:0.5</th>\n",
       "      <th>alpha:1</th>\n",
       "      <th>alpha:3</th>\n",
       "    </tr>\n",
       "  </thead>\n",
       "  <tbody>\n",
       "    <tr>\n",
       "      <th>pickup_longitude</th>\n",
       "      <td>2491.720754</td>\n",
       "      <td>2464.898372</td>\n",
       "      <td>2110.246524</td>\n",
       "      <td>1667.037523</td>\n",
       "      <td>1214.515113</td>\n",
       "    </tr>\n",
       "    <tr>\n",
       "      <th>vendor_id</th>\n",
       "      <td>194.980165</td>\n",
       "      <td>194.875548</td>\n",
       "      <td>193.477083</td>\n",
       "      <td>191.728875</td>\n",
       "      <td>183.677383</td>\n",
       "    </tr>\n",
       "    <tr>\n",
       "      <th>passenger_count</th>\n",
       "      <td>8.457462</td>\n",
       "      <td>8.458743</td>\n",
       "      <td>8.475702</td>\n",
       "      <td>8.496896</td>\n",
       "      <td>8.515973</td>\n",
       "    </tr>\n",
       "    <tr>\n",
       "      <th>dropoff_longitude</th>\n",
       "      <td>-833.104452</td>\n",
       "      <td>-807.789173</td>\n",
       "      <td>-472.721795</td>\n",
       "      <td>-53.975267</td>\n",
       "      <td>0.000000</td>\n",
       "    </tr>\n",
       "    <tr>\n",
       "      <th>dropoff_latitude</th>\n",
       "      <td>-1637.328802</td>\n",
       "      <td>-1620.862112</td>\n",
       "      <td>-1401.929438</td>\n",
       "      <td>-1128.285705</td>\n",
       "      <td>-79.015962</td>\n",
       "    </tr>\n",
       "    <tr>\n",
       "      <th>pickup_latitude</th>\n",
       "      <td>-3703.546057</td>\n",
       "      <td>-3690.474628</td>\n",
       "      <td>-3514.930603</td>\n",
       "      <td>-3295.455935</td>\n",
       "      <td>-2047.364139</td>\n",
       "    </tr>\n",
       "  </tbody>\n",
       "</table>\n",
       "</div>"
      ],
      "text/plain": [
       "                    alpha:0.07    alpha:0.1    alpha:0.5      alpha:1  \\\n",
       "pickup_longitude   2491.720754  2464.898372  2110.246524  1667.037523   \n",
       "vendor_id           194.980165   194.875548   193.477083   191.728875   \n",
       "passenger_count       8.457462     8.458743     8.475702     8.496896   \n",
       "dropoff_longitude  -833.104452  -807.789173  -472.721795   -53.975267   \n",
       "dropoff_latitude  -1637.328802 -1620.862112 -1401.929438 -1128.285705   \n",
       "pickup_latitude   -3703.546057 -3690.474628 -3514.930603 -3295.455935   \n",
       "\n",
       "                       alpha:3  \n",
       "pickup_longitude   1214.515113  \n",
       "vendor_id           183.677383  \n",
       "passenger_count       8.515973  \n",
       "dropoff_longitude     0.000000  \n",
       "dropoff_latitude    -79.015962  \n",
       "pickup_latitude   -2047.364139  "
      ]
     },
     "execution_count": 29,
     "metadata": {},
     "output_type": "execute_result"
    }
   ],
   "source": [
    "sort_column = 'alpha:'+str(lasso_alphas[0])\n",
    "coeff_lasso_df.sort_values(by=sort_column, ascending=False)"
   ]
  },
  {
   "cell_type": "markdown",
   "metadata": {},
   "source": [
    "ElasticNet 모델 학습\n",
    "\n",
    "다양한 learning rate 가지고 ElasticNet 모델을 평가해보세요.\n",
    "\n",
    "이 때 각각의 coefficient를 확인해보세요"
   ]
  },
  {
   "cell_type": "code",
   "execution_count": 31,
   "metadata": {},
   "outputs": [
    {
     "name": "stdout",
     "output_type": "stream",
     "text": [
      "#######  ElasticNet #######\n",
      "alpha 0.07일 때 5 폴드 세트의 평균 RMSE: 5263.291 \n",
      "alpha 0.1일 때 5 폴드 세트의 평균 RMSE: 5263.550 \n",
      "alpha 0.5일 때 5 폴드 세트의 평균 RMSE: 5264.377 \n",
      "alpha 1일 때 5 폴드 세트의 평균 RMSE: 5264.660 \n",
      "alpha 3일 때 5 폴드 세트의 평균 RMSE: 5265.074 \n"
     ]
    }
   ],
   "source": [
    "elastic_alphas = [ 0.07, 0.1, 0.5, 1, 3]\n",
    "coeff_elastic_df =get_linear_reg_eval('ElasticNet', params=elastic_alphas,\n",
    "                                      X_train_n=X_train, y_train_n=y_train)"
   ]
  },
  {
   "cell_type": "code",
   "execution_count": 32,
   "metadata": {},
   "outputs": [
    {
     "data": {
      "text/html": [
       "<div>\n",
       "<style scoped>\n",
       "    .dataframe tbody tr th:only-of-type {\n",
       "        vertical-align: middle;\n",
       "    }\n",
       "\n",
       "    .dataframe tbody tr th {\n",
       "        vertical-align: top;\n",
       "    }\n",
       "\n",
       "    .dataframe thead th {\n",
       "        text-align: right;\n",
       "    }\n",
       "</style>\n",
       "<table border=\"1\" class=\"dataframe\">\n",
       "  <thead>\n",
       "    <tr style=\"text-align: right;\">\n",
       "      <th></th>\n",
       "      <th>alpha:0.07</th>\n",
       "      <th>alpha:0.1</th>\n",
       "      <th>alpha:0.5</th>\n",
       "      <th>alpha:1</th>\n",
       "      <th>alpha:3</th>\n",
       "    </tr>\n",
       "  </thead>\n",
       "  <tbody>\n",
       "    <tr>\n",
       "      <th>pickup_longitude</th>\n",
       "      <td>349.319165</td>\n",
       "      <td>264.463070</td>\n",
       "      <td>61.836766</td>\n",
       "      <td>30.653773</td>\n",
       "      <td>8.881339</td>\n",
       "    </tr>\n",
       "    <tr>\n",
       "      <th>vendor_id</th>\n",
       "      <td>179.354220</td>\n",
       "      <td>173.131137</td>\n",
       "      <td>118.247412</td>\n",
       "      <td>84.704083</td>\n",
       "      <td>39.475902</td>\n",
       "    </tr>\n",
       "    <tr>\n",
       "      <th>dropoff_longitude</th>\n",
       "      <td>140.585309</td>\n",
       "      <td>115.499159</td>\n",
       "      <td>30.854610</td>\n",
       "      <td>15.066686</td>\n",
       "      <td>3.657879</td>\n",
       "    </tr>\n",
       "    <tr>\n",
       "      <th>passenger_count</th>\n",
       "      <td>10.899516</td>\n",
       "      <td>11.519133</td>\n",
       "      <td>16.170308</td>\n",
       "      <td>17.913908</td>\n",
       "      <td>16.520244</td>\n",
       "    </tr>\n",
       "    <tr>\n",
       "      <th>dropoff_latitude</th>\n",
       "      <td>-175.228703</td>\n",
       "      <td>-124.299177</td>\n",
       "      <td>-23.726603</td>\n",
       "      <td>-10.724851</td>\n",
       "      <td>-2.023317</td>\n",
       "    </tr>\n",
       "    <tr>\n",
       "      <th>pickup_latitude</th>\n",
       "      <td>-232.580062</td>\n",
       "      <td>-165.024638</td>\n",
       "      <td>-32.168174</td>\n",
       "      <td>-14.974073</td>\n",
       "      <td>-3.448184</td>\n",
       "    </tr>\n",
       "  </tbody>\n",
       "</table>\n",
       "</div>"
      ],
      "text/plain": [
       "                   alpha:0.07   alpha:0.1   alpha:0.5    alpha:1    alpha:3\n",
       "pickup_longitude   349.319165  264.463070   61.836766  30.653773   8.881339\n",
       "vendor_id          179.354220  173.131137  118.247412  84.704083  39.475902\n",
       "dropoff_longitude  140.585309  115.499159   30.854610  15.066686   3.657879\n",
       "passenger_count     10.899516   11.519133   16.170308  17.913908  16.520244\n",
       "dropoff_latitude  -175.228703 -124.299177  -23.726603 -10.724851  -2.023317\n",
       "pickup_latitude   -232.580062 -165.024638  -32.168174 -14.974073  -3.448184"
      ]
     },
     "execution_count": 32,
     "metadata": {},
     "output_type": "execute_result"
    }
   ],
   "source": [
    "sort_column = 'alpha:'+str(elastic_alphas[0])\n",
    "coeff_elastic_df.sort_values(by=sort_column, ascending=False)"
   ]
  },
  {
   "cell_type": "markdown",
   "metadata": {},
   "source": [
    "# outlier를 없엔 데이터 셋을 사용하여 선형 회귀모델 평가."
   ]
  },
  {
   "cell_type": "code",
   "execution_count": 33,
   "metadata": {},
   "outputs": [],
   "source": [
    "outlier_idx = y[y > 10000].index\n",
    "data_dropped_outlier = data_df.drop(outlier_idx, axis = 0)"
   ]
  },
  {
   "cell_type": "code",
   "execution_count": 34,
   "metadata": {},
   "outputs": [
    {
     "name": "stdout",
     "output_type": "stream",
     "text": [
      "<class 'pandas.core.frame.DataFrame'>\n",
      "Int64Index: 1456521 entries, 0 to 1458643\n",
      "Data columns (total 7 columns):\n",
      "vendor_id            1456521 non-null int64\n",
      "passenger_count      1456521 non-null int64\n",
      "pickup_longitude     1456521 non-null float64\n",
      "pickup_latitude      1456521 non-null float64\n",
      "dropoff_longitude    1456521 non-null float64\n",
      "dropoff_latitude     1456521 non-null float64\n",
      "trip_duration        1456521 non-null int64\n",
      "dtypes: float64(4), int64(3)\n",
      "memory usage: 88.9 MB\n"
     ]
    }
   ],
   "source": [
    "#데이터가 2000개 가량 줄어든 것을 확인할 수 있다.\n",
    "data_dropped_outlier.info()"
   ]
  },
  {
   "cell_type": "code",
   "execution_count": 35,
   "metadata": {},
   "outputs": [],
   "source": [
    "X_dropped = data_dropped_outlier.drop('trip_duration', axis = 1)\n",
    "y_dropped = data_dropped_outlier.trip_duration\n",
    "\n",
    "X_train, X_test, y_train, y_test = train_test_split(X_dropped, y_dropped, random_state = 42)"
   ]
  },
  {
   "cell_type": "markdown",
   "metadata": {},
   "source": [
    "앞서서 했던 outlier를 제거하기 전 시행했던 각각의 모델들을 위의 데이터셋을 통해 평가해보세요."
   ]
  },
  {
   "cell_type": "code",
   "execution_count": 43,
   "metadata": {},
   "outputs": [
    {
     "name": "stdout",
     "output_type": "stream",
     "text": [
      "###### Linear Regression ######\n",
      "MSE:  405067.949520\n",
      "\n",
      "###### Polynomial Regression ######\n",
      "MSE:  102533223693.254425\n",
      " \n",
      "#######  Ridge #######\n",
      "alpha 0.07일 때 5 폴드 세트의 평균 RMSE: 658.706 \n",
      "alpha 0.1일 때 5 폴드 세트의 평균 RMSE: 658.705 \n",
      "alpha 0.5일 때 5 폴드 세트의 평균 RMSE: 658.693 \n",
      "alpha 1일 때 5 폴드 세트의 평균 RMSE: 658.678 \n",
      "alpha 3일 때 5 폴드 세트의 평균 RMSE: 658.620 \n",
      " \n",
      "#######  Lasso #######\n",
      "alpha 0.07일 때 5 폴드 세트의 평균 RMSE: 658.053 \n",
      "alpha 0.1일 때 5 폴드 세트의 평균 RMSE: 657.780 \n",
      "alpha 0.5일 때 5 폴드 세트의 평균 RMSE: 654.550 \n",
      "alpha 1일 때 5 폴드 세트의 평균 RMSE: 651.458 \n",
      "alpha 3일 때 5 폴드 세트의 평균 RMSE: 647.926 \n",
      " \n",
      "#######  ElasticNet #######\n",
      "alpha 0.07일 때 5 폴드 세트의 평균 RMSE: 650.015 \n",
      "alpha 0.1일 때 5 폴드 세트의 평균 RMSE: 651.758 \n",
      "alpha 0.5일 때 5 폴드 세트의 평균 RMSE: 656.088 \n",
      "alpha 1일 때 5 폴드 세트의 평균 RMSE: 656.760 \n",
      "alpha 3일 때 5 폴드 세트의 평균 RMSE: 657.240 \n"
     ]
    }
   ],
   "source": [
    "print (\"###### Linear Regression ######\")\n",
    "get_linear_result(X_train, y_train)\n",
    "\n",
    "print(\"\\n###### Polynomial Regression ######\")\n",
    "get_polynomial_result(X_train, y_train)\n",
    "\n",
    "print (\" \")\n",
    "ridge_alphas = [ 0.07, 0.1, 0.5, 1, 3]\n",
    "coeff_ridge_df =get_linear_reg_eval('Ridge', params=ridge_alphas, X_train_n=X_train, y_train_n=y_train)\n",
    "\n",
    "print (\" \")\n",
    "lasso_alphas = [ 0.07, 0.1, 0.5, 1, 3]\n",
    "coeff_lasso_df =get_linear_reg_eval('Lasso', params=lasso_alphas, X_train_n=X_train, y_train_n=y_train)\n",
    "\n",
    "print (\" \")\n",
    "elastic_alphas = [ 0.07, 0.1, 0.5, 1, 3]\n",
    "coeff_elastic_df =get_linear_reg_eval('ElasticNet', params=elastic_alphas,\n",
    "                                      X_train_n=X_train, y_train_n=y_train)"
   ]
  },
  {
   "cell_type": "markdown",
   "metadata": {},
   "source": [
    "# Q2. 이 데이터 셋에서는 규제가 그리 효과적이지 못한 것 처럼 보입니다. 그 이유는 무엇일까요?\n",
    "\n",
    "\n",
    "\n",
    "# Q3. 이 데이터셋은 우리가 원하는 trip duration을 구하기에는 연관이 적은 것 같습니다. 데이터를 가공한다면, 어떤식으로 하면 trip duration과 관련이 있을까요?"
   ]
  },
  {
   "cell_type": "markdown",
   "metadata": {},
   "source": [
    "   "
   ]
  },
  {
   "cell_type": "markdown",
   "metadata": {},
   "source": [
    "# 부록:파이썬의 시계열 데이터 "
   ]
  },
  {
   "cell_type": "markdown",
   "metadata": {},
   "source": [
    "파이썬 라이브러리에는 날짜와 시간을 위한 자료형과 달력과 관련된 기능을 제공하는 자료형이 있습니다..\n",
    "\n",
    "파이썬 기본 자료형: datetime, time, calender\n",
    "\n",
    "date: 그레고리언 달력을 사용하여 년, 월, 일을 저장한다.\n",
    "\n",
    "time: 하루 중 시간을 시간, 분, 초, 마이크로 초 단위로 저장한다.\n",
    "\n",
    "datetime: 날짜와 시간을 같이 저장한다\n",
    "\n",
    "timedelta: 두 datetime 값 간의 차이(일, 초, 마이크로초)를 표현한다"
   ]
  },
  {
   "cell_type": "code",
   "execution_count": null,
   "metadata": {},
   "outputs": [],
   "source": [
    "trip_df = pd.read_csv('./train.csv')\n",
    "trip_df.drop(['id', 'vendor_id'], axis= 1,inplace = True)"
   ]
  },
  {
   "cell_type": "markdown",
   "metadata": {},
   "source": [
    "간단한 시계열 포멧\n",
    "\n",
    "%Y: 네자리 연도\n",
    "\n",
    "%y: 두자리 연도\n",
    "\n",
    "%m: 두자리 월 ex:01 은 1월\n",
    "\n",
    "%d: 두자리 일 ex:03은 3일\n",
    "\n",
    "%H: 24시간 형식 시간\n",
    "\n",
    "%I: 12시간 형식 시간\n",
    "\n",
    "%M: 두 자리 분\n",
    "\n",
    "%S: 초"
   ]
  },
  {
   "cell_type": "code",
   "execution_count": null,
   "metadata": {},
   "outputs": [],
   "source": [
    "from datetime import datetime\n",
    "# series에 있는 시계열 데이터는 현재 문자열 형태로 저장되어 있기 때문에 처리가 용이한 datetime 타입으로 바꾼다.\n",
    "d2dt = lambda x: datetime.strptime(x, '%Y-%m-%d %H:%M:%S') #datetime형으로 변환할 때 시계열 데이터의 형태를 맞춰서 넣어줘야한다.\n",
    "pickup = trip_df.pickup_datetime.map(d2dt)\n",
    "dropoff = trip_df.dropoff_datetime.map(d2dt)"
   ]
  },
  {
   "cell_type": "code",
   "execution_count": null,
   "metadata": {},
   "outputs": [],
   "source": [
    "#pickup 시간과 dropoff 시간의 간격을 초 단위로 바꾼다.\n",
    "# datetime 형을 빼거나 더하면 timedelta 타입으로 바뀐다. timedelta 형은 시계열 형 데이터의 기간을 표현하는데 적합하다.\n",
    "timegap = dropoff - pickup\n",
    "tomsec = lambda x: x.seconds\n",
    "timegap_sec = timegap.map(tosec)"
   ]
  },
  {
   "cell_type": "code",
   "execution_count": null,
   "metadata": {},
   "outputs": [],
   "source": [
    "#timedelta형임을 확인할 수 있다.\n",
    "type(timegap[0])"
   ]
  },
  {
   "cell_type": "code",
   "execution_count": null,
   "metadata": {},
   "outputs": [],
   "source": [
    "timegap_sec"
   ]
  },
  {
   "cell_type": "code",
   "execution_count": null,
   "metadata": {},
   "outputs": [],
   "source": [
    "#손님을 태운 시간과 내려준 시간의 차, 즉 trip_duration이 실제로는 이 데이터셋으로부터 바로 구할 수있다.\n",
    "#위 데이터셋에서 trip_duration과 timegap_sec가 맞지 않는 4개의 데이터셋이 있는데 이는 시간이 잘못 기록되었음을 유추할 수 있다.\n",
    "np.sum(timegap_sec != trip_df.trip_duration)"
   ]
  }
 ],
 "metadata": {
  "kernelspec": {
   "display_name": "Python 3",
   "language": "python",
   "name": "python3"
  },
  "language_info": {
   "codemirror_mode": {
    "name": "ipython",
    "version": 3
   },
   "file_extension": ".py",
   "mimetype": "text/x-python",
   "name": "python",
   "nbconvert_exporter": "python",
   "pygments_lexer": "ipython3",
   "version": "3.7.3"
  }
 },
 "nbformat": 4,
 "nbformat_minor": 2
}
