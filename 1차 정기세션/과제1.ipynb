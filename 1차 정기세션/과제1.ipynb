{
 "cells": [
  {
   "cell_type": "markdown",
   "metadata": {},
   "source": [
    "# 과제1"
   ]
  },
  {
   "cell_type": "markdown",
   "metadata": {},
   "source": [
    "## 조원들의 DataFrame"
   ]
  },
  {
   "cell_type": "code",
   "execution_count": 1,
   "metadata": {},
   "outputs": [],
   "source": [
    "import pandas as pd"
   ]
  },
  {
   "cell_type": "code",
   "execution_count": 5,
   "metadata": {},
   "outputs": [],
   "source": [
    "dict = {'이름': ['이재욱','한도담','변영무','조예빈'],\n",
    "       '나이':[26,24,23,22],\n",
    "       '학번':[20143628,20152534,20162990,20171564],\n",
    "       '전화번호':['01076743718','01021067341','01055594078','01082035466']}"
   ]
  },
  {
   "cell_type": "code",
   "execution_count": 3,
   "metadata": {},
   "outputs": [
    {
     "data": {
      "text/plain": [
       "{'이름': ['이재욱', '한도담', '변영무', '조예빈'],\n",
       " '나이': [26, 24, 23, 22],\n",
       " '학번': [20143628, 20152534, 20162990.20171564],\n",
       " '전화번호': ['01076743718', '01021067341', '01055594078', '01082035466']}"
      ]
     },
     "execution_count": 3,
     "metadata": {},
     "output_type": "execute_result"
    }
   ],
   "source": [
    "dict"
   ]
  },
  {
   "cell_type": "code",
   "execution_count": 8,
   "metadata": {},
   "outputs": [],
   "source": [
    "coco = pd.DataFrame(dict)"
   ]
  },
  {
   "cell_type": "code",
   "execution_count": 10,
   "metadata": {},
   "outputs": [
    {
     "data": {
      "text/html": [
       "<div>\n",
       "<style scoped>\n",
       "    .dataframe tbody tr th:only-of-type {\n",
       "        vertical-align: middle;\n",
       "    }\n",
       "\n",
       "    .dataframe tbody tr th {\n",
       "        vertical-align: top;\n",
       "    }\n",
       "\n",
       "    .dataframe thead th {\n",
       "        text-align: right;\n",
       "    }\n",
       "</style>\n",
       "<table border=\"1\" class=\"dataframe\">\n",
       "  <thead>\n",
       "    <tr style=\"text-align: right;\">\n",
       "      <th></th>\n",
       "      <th>이름</th>\n",
       "      <th>나이</th>\n",
       "      <th>학번</th>\n",
       "      <th>전화번호</th>\n",
       "    </tr>\n",
       "  </thead>\n",
       "  <tbody>\n",
       "    <tr>\n",
       "      <th>0</th>\n",
       "      <td>이재욱</td>\n",
       "      <td>26</td>\n",
       "      <td>20143628</td>\n",
       "      <td>01076743718</td>\n",
       "    </tr>\n",
       "    <tr>\n",
       "      <th>1</th>\n",
       "      <td>한도담</td>\n",
       "      <td>24</td>\n",
       "      <td>20152534</td>\n",
       "      <td>01021067341</td>\n",
       "    </tr>\n",
       "    <tr>\n",
       "      <th>2</th>\n",
       "      <td>변영무</td>\n",
       "      <td>23</td>\n",
       "      <td>20162990</td>\n",
       "      <td>01055594078</td>\n",
       "    </tr>\n",
       "    <tr>\n",
       "      <th>3</th>\n",
       "      <td>조예빈</td>\n",
       "      <td>22</td>\n",
       "      <td>20171564</td>\n",
       "      <td>01082035466</td>\n",
       "    </tr>\n",
       "  </tbody>\n",
       "</table>\n",
       "</div>"
      ],
      "text/plain": [
       "    이름  나이        학번         전화번호\n",
       "0  이재욱  26  20143628  01076743718\n",
       "1  한도담  24  20152534  01021067341\n",
       "2  변영무  23  20162990  01055594078\n",
       "3  조예빈  22  20171564  01082035466"
      ]
     },
     "execution_count": 10,
     "metadata": {},
     "output_type": "execute_result"
    }
   ],
   "source": [
    "coco"
   ]
  },
  {
   "cell_type": "markdown",
   "metadata": {},
   "source": [
    "## '나이'열을 기준으로 오름차순 정렬"
   ]
  },
  {
   "cell_type": "code",
   "execution_count": 15,
   "metadata": {},
   "outputs": [
    {
     "data": {
      "text/html": [
       "<div>\n",
       "<style scoped>\n",
       "    .dataframe tbody tr th:only-of-type {\n",
       "        vertical-align: middle;\n",
       "    }\n",
       "\n",
       "    .dataframe tbody tr th {\n",
       "        vertical-align: top;\n",
       "    }\n",
       "\n",
       "    .dataframe thead th {\n",
       "        text-align: right;\n",
       "    }\n",
       "</style>\n",
       "<table border=\"1\" class=\"dataframe\">\n",
       "  <thead>\n",
       "    <tr style=\"text-align: right;\">\n",
       "      <th></th>\n",
       "      <th>이름</th>\n",
       "      <th>나이</th>\n",
       "      <th>학번</th>\n",
       "      <th>전화번호</th>\n",
       "    </tr>\n",
       "  </thead>\n",
       "  <tbody>\n",
       "    <tr>\n",
       "      <th>3</th>\n",
       "      <td>조예빈</td>\n",
       "      <td>22</td>\n",
       "      <td>20171564</td>\n",
       "      <td>01082035466</td>\n",
       "    </tr>\n",
       "    <tr>\n",
       "      <th>2</th>\n",
       "      <td>변영무</td>\n",
       "      <td>23</td>\n",
       "      <td>20162990</td>\n",
       "      <td>01055594078</td>\n",
       "    </tr>\n",
       "    <tr>\n",
       "      <th>1</th>\n",
       "      <td>한도담</td>\n",
       "      <td>24</td>\n",
       "      <td>20152534</td>\n",
       "      <td>01021067341</td>\n",
       "    </tr>\n",
       "    <tr>\n",
       "      <th>0</th>\n",
       "      <td>이재욱</td>\n",
       "      <td>26</td>\n",
       "      <td>20143628</td>\n",
       "      <td>01076743718</td>\n",
       "    </tr>\n",
       "  </tbody>\n",
       "</table>\n",
       "</div>"
      ],
      "text/plain": [
       "    이름  나이        학번         전화번호\n",
       "3  조예빈  22  20171564  01082035466\n",
       "2  변영무  23  20162990  01055594078\n",
       "1  한도담  24  20152534  01021067341\n",
       "0  이재욱  26  20143628  01076743718"
      ]
     },
     "execution_count": 15,
     "metadata": {},
     "output_type": "execute_result"
    }
   ],
   "source": [
    "coco_sorted = coco.sort_values(by=['나이'])\n",
    "coco_sorted"
   ]
  },
  {
   "cell_type": "markdown",
   "metadata": {},
   "source": [
    "## '나이'열을 기준으로 내림차순 정렬"
   ]
  },
  {
   "cell_type": "code",
   "execution_count": 18,
   "metadata": {},
   "outputs": [
    {
     "data": {
      "text/html": [
       "<div>\n",
       "<style scoped>\n",
       "    .dataframe tbody tr th:only-of-type {\n",
       "        vertical-align: middle;\n",
       "    }\n",
       "\n",
       "    .dataframe tbody tr th {\n",
       "        vertical-align: top;\n",
       "    }\n",
       "\n",
       "    .dataframe thead th {\n",
       "        text-align: right;\n",
       "    }\n",
       "</style>\n",
       "<table border=\"1\" class=\"dataframe\">\n",
       "  <thead>\n",
       "    <tr style=\"text-align: right;\">\n",
       "      <th></th>\n",
       "      <th>이름</th>\n",
       "      <th>나이</th>\n",
       "      <th>학번</th>\n",
       "      <th>전화번호</th>\n",
       "    </tr>\n",
       "  </thead>\n",
       "  <tbody>\n",
       "    <tr>\n",
       "      <th>0</th>\n",
       "      <td>이재욱</td>\n",
       "      <td>26</td>\n",
       "      <td>20143628</td>\n",
       "      <td>01076743718</td>\n",
       "    </tr>\n",
       "    <tr>\n",
       "      <th>1</th>\n",
       "      <td>한도담</td>\n",
       "      <td>24</td>\n",
       "      <td>20152534</td>\n",
       "      <td>01021067341</td>\n",
       "    </tr>\n",
       "    <tr>\n",
       "      <th>2</th>\n",
       "      <td>변영무</td>\n",
       "      <td>23</td>\n",
       "      <td>20162990</td>\n",
       "      <td>01055594078</td>\n",
       "    </tr>\n",
       "    <tr>\n",
       "      <th>3</th>\n",
       "      <td>조예빈</td>\n",
       "      <td>22</td>\n",
       "      <td>20171564</td>\n",
       "      <td>01082035466</td>\n",
       "    </tr>\n",
       "  </tbody>\n",
       "</table>\n",
       "</div>"
      ],
      "text/plain": [
       "    이름  나이        학번         전화번호\n",
       "0  이재욱  26  20143628  01076743718\n",
       "1  한도담  24  20152534  01021067341\n",
       "2  변영무  23  20162990  01055594078\n",
       "3  조예빈  22  20171564  01082035466"
      ]
     },
     "execution_count": 18,
     "metadata": {},
     "output_type": "execute_result"
    }
   ],
   "source": [
    "coco_sorted_descend = coco.sort_values(by=['나이'],ascending=False)\n",
    "coco_sorted_descend"
   ]
  },
  {
   "cell_type": "markdown",
   "metadata": {},
   "source": [
    "## DataFram 데이터 삭제"
   ]
  },
  {
   "cell_type": "code",
   "execution_count": 19,
   "metadata": {},
   "outputs": [
    {
     "data": {
      "text/html": [
       "<div>\n",
       "<style scoped>\n",
       "    .dataframe tbody tr th:only-of-type {\n",
       "        vertical-align: middle;\n",
       "    }\n",
       "\n",
       "    .dataframe tbody tr th {\n",
       "        vertical-align: top;\n",
       "    }\n",
       "\n",
       "    .dataframe thead th {\n",
       "        text-align: right;\n",
       "    }\n",
       "</style>\n",
       "<table border=\"1\" class=\"dataframe\">\n",
       "  <thead>\n",
       "    <tr style=\"text-align: right;\">\n",
       "      <th></th>\n",
       "      <th>이름</th>\n",
       "      <th>학번</th>\n",
       "      <th>전화번호</th>\n",
       "    </tr>\n",
       "  </thead>\n",
       "  <tbody>\n",
       "    <tr>\n",
       "      <th>0</th>\n",
       "      <td>이재욱</td>\n",
       "      <td>20143628</td>\n",
       "      <td>01076743718</td>\n",
       "    </tr>\n",
       "    <tr>\n",
       "      <th>1</th>\n",
       "      <td>한도담</td>\n",
       "      <td>20152534</td>\n",
       "      <td>01021067341</td>\n",
       "    </tr>\n",
       "    <tr>\n",
       "      <th>2</th>\n",
       "      <td>변영무</td>\n",
       "      <td>20162990</td>\n",
       "      <td>01055594078</td>\n",
       "    </tr>\n",
       "    <tr>\n",
       "      <th>3</th>\n",
       "      <td>조예빈</td>\n",
       "      <td>20171564</td>\n",
       "      <td>01082035466</td>\n",
       "    </tr>\n",
       "  </tbody>\n",
       "</table>\n",
       "</div>"
      ],
      "text/plain": [
       "    이름        학번         전화번호\n",
       "0  이재욱  20143628  01076743718\n",
       "1  한도담  20152534  01021067341\n",
       "2  변영무  20162990  01055594078\n",
       "3  조예빈  20171564  01082035466"
      ]
     },
     "execution_count": 19,
     "metadata": {},
     "output_type": "execute_result"
    }
   ],
   "source": [
    "coco_drop_off=coco.drop('나이',axis=1)\n",
    "coco_drop_off"
   ]
  },
  {
   "cell_type": "code",
   "execution_count": 20,
   "metadata": {},
   "outputs": [
    {
     "data": {
      "text/html": [
       "<div>\n",
       "<style scoped>\n",
       "    .dataframe tbody tr th:only-of-type {\n",
       "        vertical-align: middle;\n",
       "    }\n",
       "\n",
       "    .dataframe tbody tr th {\n",
       "        vertical-align: top;\n",
       "    }\n",
       "\n",
       "    .dataframe thead th {\n",
       "        text-align: right;\n",
       "    }\n",
       "</style>\n",
       "<table border=\"1\" class=\"dataframe\">\n",
       "  <thead>\n",
       "    <tr style=\"text-align: right;\">\n",
       "      <th></th>\n",
       "      <th>이름</th>\n",
       "      <th>나이</th>\n",
       "      <th>학번</th>\n",
       "      <th>전화번호</th>\n",
       "    </tr>\n",
       "  </thead>\n",
       "  <tbody>\n",
       "    <tr>\n",
       "      <th>0</th>\n",
       "      <td>이재욱</td>\n",
       "      <td>26</td>\n",
       "      <td>20143628</td>\n",
       "      <td>01076743718</td>\n",
       "    </tr>\n",
       "    <tr>\n",
       "      <th>1</th>\n",
       "      <td>한도담</td>\n",
       "      <td>24</td>\n",
       "      <td>20152534</td>\n",
       "      <td>01021067341</td>\n",
       "    </tr>\n",
       "    <tr>\n",
       "      <th>2</th>\n",
       "      <td>변영무</td>\n",
       "      <td>23</td>\n",
       "      <td>20162990</td>\n",
       "      <td>01055594078</td>\n",
       "    </tr>\n",
       "    <tr>\n",
       "      <th>3</th>\n",
       "      <td>조예빈</td>\n",
       "      <td>22</td>\n",
       "      <td>20171564</td>\n",
       "      <td>01082035466</td>\n",
       "    </tr>\n",
       "  </tbody>\n",
       "</table>\n",
       "</div>"
      ],
      "text/plain": [
       "    이름  나이        학번         전화번호\n",
       "0  이재욱  26  20143628  01076743718\n",
       "1  한도담  24  20152534  01021067341\n",
       "2  변영무  23  20162990  01055594078\n",
       "3  조예빈  22  20171564  01082035466"
      ]
     },
     "execution_count": 20,
     "metadata": {},
     "output_type": "execute_result"
    }
   ],
   "source": [
    "coco"
   ]
  },
  {
   "cell_type": "markdown",
   "metadata": {},
   "source": [
    "## DataFrame 슬라이싱"
   ]
  },
  {
   "cell_type": "code",
   "execution_count": 21,
   "metadata": {},
   "outputs": [
    {
     "data": {
      "text/html": [
       "<div>\n",
       "<style scoped>\n",
       "    .dataframe tbody tr th:only-of-type {\n",
       "        vertical-align: middle;\n",
       "    }\n",
       "\n",
       "    .dataframe tbody tr th {\n",
       "        vertical-align: top;\n",
       "    }\n",
       "\n",
       "    .dataframe thead th {\n",
       "        text-align: right;\n",
       "    }\n",
       "</style>\n",
       "<table border=\"1\" class=\"dataframe\">\n",
       "  <thead>\n",
       "    <tr style=\"text-align: right;\">\n",
       "      <th></th>\n",
       "      <th>이름</th>\n",
       "      <th>나이</th>\n",
       "      <th>학번</th>\n",
       "      <th>전화번호</th>\n",
       "      <th>졸업 연도</th>\n",
       "    </tr>\n",
       "  </thead>\n",
       "  <tbody>\n",
       "    <tr>\n",
       "      <th>0</th>\n",
       "      <td>이재욱</td>\n",
       "      <td>26</td>\n",
       "      <td>20143628</td>\n",
       "      <td>01076743718</td>\n",
       "      <td>20183628</td>\n",
       "    </tr>\n",
       "    <tr>\n",
       "      <th>1</th>\n",
       "      <td>한도담</td>\n",
       "      <td>24</td>\n",
       "      <td>20152534</td>\n",
       "      <td>01021067341</td>\n",
       "      <td>20192534</td>\n",
       "    </tr>\n",
       "    <tr>\n",
       "      <th>2</th>\n",
       "      <td>변영무</td>\n",
       "      <td>23</td>\n",
       "      <td>20162990</td>\n",
       "      <td>01055594078</td>\n",
       "      <td>20202990</td>\n",
       "    </tr>\n",
       "    <tr>\n",
       "      <th>3</th>\n",
       "      <td>조예빈</td>\n",
       "      <td>22</td>\n",
       "      <td>20171564</td>\n",
       "      <td>01082035466</td>\n",
       "      <td>20211564</td>\n",
       "    </tr>\n",
       "  </tbody>\n",
       "</table>\n",
       "</div>"
      ],
      "text/plain": [
       "    이름  나이        학번         전화번호     졸업 연도\n",
       "0  이재욱  26  20143628  01076743718  20183628\n",
       "1  한도담  24  20152534  01021067341  20192534\n",
       "2  변영무  23  20162990  01055594078  20202990\n",
       "3  조예빈  22  20171564  01082035466  20211564"
      ]
     },
     "execution_count": 21,
     "metadata": {},
     "output_type": "execute_result"
    }
   ],
   "source": [
    "coco['졸업 연도']=coco['학번'][:4]+40000\n",
    "coco"
   ]
  },
  {
   "cell_type": "code",
   "execution_count": 23,
   "metadata": {},
   "outputs": [
    {
     "data": {
      "text/html": [
       "<div>\n",
       "<style scoped>\n",
       "    .dataframe tbody tr th:only-of-type {\n",
       "        vertical-align: middle;\n",
       "    }\n",
       "\n",
       "    .dataframe tbody tr th {\n",
       "        vertical-align: top;\n",
       "    }\n",
       "\n",
       "    .dataframe thead th {\n",
       "        text-align: right;\n",
       "    }\n",
       "</style>\n",
       "<table border=\"1\" class=\"dataframe\">\n",
       "  <thead>\n",
       "    <tr style=\"text-align: right;\">\n",
       "      <th></th>\n",
       "      <th>이름</th>\n",
       "      <th>나이</th>\n",
       "      <th>학번</th>\n",
       "      <th>전화번호</th>\n",
       "      <th>졸업 연도</th>\n",
       "    </tr>\n",
       "  </thead>\n",
       "  <tbody>\n",
       "    <tr>\n",
       "      <th>0</th>\n",
       "      <td>이재욱</td>\n",
       "      <td>26</td>\n",
       "      <td>20143628</td>\n",
       "      <td>01076743718</td>\n",
       "      <td>20183628</td>\n",
       "    </tr>\n",
       "    <tr>\n",
       "      <th>1</th>\n",
       "      <td>한도담</td>\n",
       "      <td>24</td>\n",
       "      <td>20152534</td>\n",
       "      <td>01021067341</td>\n",
       "      <td>20192534</td>\n",
       "    </tr>\n",
       "    <tr>\n",
       "      <th>2</th>\n",
       "      <td>변영무</td>\n",
       "      <td>23</td>\n",
       "      <td>20162990</td>\n",
       "      <td>01055594078</td>\n",
       "      <td>20202990</td>\n",
       "    </tr>\n",
       "    <tr>\n",
       "      <th>3</th>\n",
       "      <td>조예빈</td>\n",
       "      <td>22</td>\n",
       "      <td>20171564</td>\n",
       "      <td>01082035466</td>\n",
       "      <td>20211564</td>\n",
       "    </tr>\n",
       "  </tbody>\n",
       "</table>\n",
       "</div>"
      ],
      "text/plain": [
       "    이름  나이        학번         전화번호     졸업 연도\n",
       "0  이재욱  26  20143628  01076743718  20183628\n",
       "1  한도담  24  20152534  01021067341  20192534\n",
       "2  변영무  23  20162990  01055594078  20202990\n",
       "3  조예빈  22  20171564  01082035466  20211564"
      ]
     },
     "execution_count": 23,
     "metadata": {},
     "output_type": "execute_result"
    }
   ],
   "source": [
    "coco['졸업 연도']=coco['졸업 연도'][:4]\n",
    "coco"
   ]
  },
  {
   "cell_type": "code",
   "execution_count": null,
   "metadata": {},
   "outputs": [],
   "source": []
  }
 ],
 "metadata": {
  "kernelspec": {
   "display_name": "Python 3",
   "language": "python",
   "name": "python3"
  },
  "language_info": {
   "codemirror_mode": {
    "name": "ipython",
    "version": 3
   },
   "file_extension": ".py",
   "mimetype": "text/x-python",
   "name": "python",
   "nbconvert_exporter": "python",
   "pygments_lexer": "ipython3",
   "version": "3.7.3"
  }
 },
 "nbformat": 4,
 "nbformat_minor": 2
}
