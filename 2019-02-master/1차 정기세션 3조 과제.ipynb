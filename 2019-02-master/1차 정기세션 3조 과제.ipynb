{
 "cells": [
  {
   "cell_type": "code",
   "execution_count": 2,
   "metadata": {},
   "outputs": [],
   "source": [
    "#Library import\n",
    "import warnings\n",
    "import os\n",
    "import numpy as np\n",
    "from sklearn.ensemble import RandomForestClassifier\n",
    "from sklearn.tree import DecisionTreeClassifier\n",
    "from sklearn.preprocessing import StandardScaler\n",
    "from sklearn.metrics import accuracy_score\n",
    "from sklearn.model_selection import GridSearchCV\n",
    "from sklearn.linear_model import LogisticRegression\n",
    "warnings.filterwarnings('ignore')"
   ]
  },
  {
   "cell_type": "code",
   "execution_count": 3,
   "metadata": {},
   "outputs": [
    {
     "data": {
      "text/plain": [
       "'/Users/dodam/Desktop/중앙대학교/CUAI/1차 정기 세션'"
      ]
     },
     "execution_count": 3,
     "metadata": {},
     "output_type": "execute_result"
    }
   ],
   "source": [
    "os.getcwd()"
   ]
  },
  {
   "cell_type": "code",
   "execution_count": 5,
   "metadata": {},
   "outputs": [],
   "source": [
    "# OS로 디렉토리를 설정한 후 데이터를 읽어들인다.\n",
    "os.chdir(\"/Users/dodam/Desktop/중앙대학교/CUAI/1차 정기 세션\")\n",
    "\n",
    "train_xdata = np.loadtxt('titanic_3355/train_xdata.csv',delimiter=',', skiprows=1)\n",
    "train_label = np.loadtxt('titanic_3355/train_label.csv',delimiter=',',skiprows=1)\n",
    "test_xdata = np.loadtxt('titanic_3355/test_xdata.csv',delimiter=',',skiprows=1)\n",
    "test_label = np.loadtxt('titanic_3355/test_label.csv',delimiter=',',skiprows=1)"
   ]
  },
  {
   "cell_type": "code",
   "execution_count": 6,
   "metadata": {},
   "outputs": [],
   "source": [
    "# Standard Scaling 진행 \n",
    "ss = StandardScaler()\n",
    "train_xdata = ss.fit_transform(train_xdata) #train_xdata를 Scaling 한다.\n",
    "test_xdata = ss.transform(test_xdata)\n"
   ]
  },
  {
   "cell_type": "code",
   "execution_count": 7,
   "metadata": {},
   "outputs": [
    {
     "name": "stdout",
     "output_type": "stream",
     "text": [
      "DT :  0.7870813397129187 \n",
      "RF :  0.8181818181818182 \n",
      "LR : 0.937799043062201\n"
     ]
    }
   ],
   "source": [
    "#모델의 Accuracy 반환 (DONT TOUCH)\n",
    "def returnACC(model):\n",
    "    model.fit(train_xdata, train_label)\n",
    "    pred = model.predict(test_xdata)\n",
    "    return accuracy_score(test_label, pred)\n",
    "\n",
    "rf =RandomForestClassifier(random_state=3355)\n",
    "dt = DecisionTreeClassifier(random_state=3355)\n",
    "lr = LogisticRegression(random_state=3355)\n",
    "print('DT : ', returnACC(dt),'\\nRF : ',returnACC(rf),'\\nLR :', returnACC(lr))\n",
    "\n",
    "def grid_search(model, parameters):\n",
    "    grid_dclf = GridSearchCV(model, param_grid=parameters, scoring='accuracy', cv=5)\n",
    "    grid_dclf.fit(train_xdata, train_label)\n",
    "    print(accuracy_score(grid_dclf.best_estimator_.predict(test_xdata), test_label))\n",
    "    print(grid_dclf.best_params_)"
   ]
  },
  {
   "cell_type": "code",
   "execution_count": 8,
   "metadata": {},
   "outputs": [
    {
     "name": "stdout",
     "output_type": "stream",
     "text": [
      "0.8947368421052632\n",
      "{'max_depth': None, 'min_samples_leaf': 12, 'min_samples_split': 2}\n"
     ]
    }
   ],
   "source": [
    "# 모델의 파라미터 조절하기! \n",
    "# decision Tree의 성능을 높이고 RandomForest의 성능의 변화를 확인한다.\n",
    "rf =RandomForestClassifier(random_state=3355)\n",
    "dt = DecisionTreeClassifier(random_state=3355)\n",
    "lr = LogisticRegression(random_state=3355)\n",
    "\n",
    "parameters={'max_depth':[None],'min_samples_leaf':[1, 3, 10, 12],'min_samples_split':[2, 3, 5, 10]} #파라미터를 튜닝하세요.\n",
    "\n",
    "grid_search(dt, parameters)"
   ]
  },
  {
   "cell_type": "code",
   "execution_count": 9,
   "metadata": {},
   "outputs": [
    {
     "name": "stdout",
     "output_type": "stream",
     "text": [
      "0.8708133971291866\n",
      "{'max_depth': None, 'min_samples_leaf': 3, 'min_samples_split': 2}\n"
     ]
    }
   ],
   "source": [
    "rf =RandomForestClassifier(random_state=3355)\n",
    "dt = DecisionTreeClassifier(random_state=3355)\n",
    "lr = LogisticRegression(random_state=3355)\n",
    "\n",
    "parameters={'max_depth':[None],'min_samples_leaf':[1, 3, 10, 12],'min_samples_split':[2, 3, 5, 10]} #파라미터를 튜닝하세요.\n",
    "\n",
    "grid_search(rf, parameters)"
   ]
  },
  {
   "cell_type": "code",
   "execution_count": null,
   "metadata": {},
   "outputs": [],
   "source": [
    " #Q1 : Decision Treed의 Accuracy를 0.83 이상으로 높였을 때 파라미터는 무엇인가요? {'max_depth': None, 'min_samples_leaf': 12, 'min_samples_split': 2}\n",
    "#Q2 : Random Forest로 Accuracy를 0.86 이상으로 높일 수 있나요? (T/F) T"
   ]
  }
 ],
 "metadata": {
  "kernelspec": {
   "display_name": "Python 3",
   "language": "python",
   "name": "python3"
  },
  "language_info": {
   "codemirror_mode": {
    "name": "ipython",
    "version": 3
   },
   "file_extension": ".py",
   "mimetype": "text/x-python",
   "name": "python",
   "nbconvert_exporter": "python",
   "pygments_lexer": "ipython3",
   "version": "3.7.3"
  }
 },
 "nbformat": 4,
 "nbformat_minor": 2
}
